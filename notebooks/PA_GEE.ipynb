{
 "cells": [
  {
   "cell_type": "markdown",
   "metadata": {},
   "source": [
    "## Get Mha of bioenergy outside and inside protected areas within the top fractions of the landscape for biodiversity. "
   ]
  },
  {
   "cell_type": "markdown",
   "metadata": {},
   "source": [
    "#### This script uses the Google Earth Engine Collection \"World Database on Protected Areas\". The collection updated regularly on GEE"
   ]
  },
  {
   "cell_type": "code",
   "execution_count": 1,
   "metadata": {},
   "outputs": [],
   "source": [
    "# import required libraries\n",
    "import ee\n",
    "ee.Initialize()\n",
    "import geemap\n",
    "Map = geemap.Map()\n",
    "import pandas as pd"
   ]
  },
  {
   "cell_type": "markdown",
   "metadata": {},
   "source": [
    "#### Functions"
   ]
  },
  {
   "cell_type": "code",
   "execution_count": 2,
   "metadata": {},
   "outputs": [],
   "source": [
    "def get_stats(fraction):\n",
    "    # lists for loops\n",
    "    continent = ['Africa','Europe','North America','Asia','South America','Oceania']\n",
    "    scenarios = ['ssp1','ssp2','ssp5']\n",
    "    # store results in list\n",
    "    res = []\n",
    "    for i in scenarios:\n",
    "        if fraction==17:\n",
    "            frac = '17%'\n",
    "            # get original mask\n",
    "            mask = ee.Image('users/marcogirardello/annarepo/'+i).select('b1').float()\n",
    "            # get image with pixels outside protected areas\n",
    "            opa = ee.Image('users/marcogirardello/annarepo/'+i+'_nopa').updateMask(mask.eq(2))\n",
    "            # get image with pixels inside protected areas\n",
    "            inpa = ee.Image('users/marcogirardello/annarepo/'+i+'_pa').updateMask(mask.eq(2))\n",
    "        elif fraction==30:\n",
    "            frac = '30%'\n",
    "            # get image with pixels outside protected areas\n",
    "            opa = ee.Image('users/marcogirardello/annarepo/'+i+'_nopa')\n",
    "            # get image with pixels inside protected areas\n",
    "            inpa = ee.Image('users/marcogirardello/annarepo/'+i+'_pa')\n",
    "        # --------------- global:  outside protected areas\n",
    "        valopa = opa.reduceRegion(geometry = opa.geometry(), reducer = ee.Reducer.sum().unweighted(),scale = 50000, maxPixels = 1e13).getInfo()\n",
    "        # store results for non-protected areas\n",
    "        res.append((pd.DataFrame([valopa])\n",
    "                .rename({'b1':'Mha'},axis = 1)\n",
    "                .assign(coverage = 'global',scenario = i, type = 'outside protected areas',fraction = frac)))\n",
    "         # --------------- global: within protected areas\n",
    "        valinpa = inpa.reduceRegion(geometry = inpa.geometry(), reducer = ee.Reducer.sum().unweighted(),scale = 50000, maxPixels = 1e13).getInfo()\n",
    "        # store results for protected areas\n",
    "        res.append(pd.DataFrame([valinpa])\n",
    "               .rename({'b1':'Mha'},axis = 1)\n",
    "               .assign(coverage = 'global',scenario = i, type = 'inside protected areas', fraction = frac)) \n",
    "        # --------------- by continent\n",
    "        for y in continent:\n",
    "            cont = countries.filterMetadata('CONTINENT','equals',y)\n",
    "            # ----- outside protected areas \n",
    "            opa1 = opa.clip(cont)\n",
    "            opacont = opa1.reduceRegion(geometry = opa.geometry(),scale = 50000, reducer = ee.Reducer.sum().unweighted(),maxPixels = 1e13).getInfo()\n",
    "            res.append(pd.DataFrame([opacont])\n",
    "                       .rename({'b1':'Mha'},axis = 1)\n",
    "                       .assign(coverage = y,scenario = i,type = 'outside protected areas',fraction = frac))\n",
    "            # ----- outside protected areas\n",
    "            inpa1 = inpa.clip(cont)\n",
    "            inpacont = inpa1.reduceRegion(geometry = inpa.geometry(),scale = 50000,reducer = ee.Reducer.sum().unweighted(), maxPixels = 1e13).getInfo()\n",
    "            res.append(pd.DataFrame([inpacont])\n",
    "                       .rename({'b1':'Mha'},axis = 1)\n",
    "                       .assign(coverage = y, scenario = i, type = 'inside protected areas',fraction = frac))\n",
    "    return pd.concat(res,ignore_index=True)  "
   ]
  },
  {
   "cell_type": "markdown",
   "metadata": {},
   "source": [
    "#### Load relevant collections and images"
   ]
  },
  {
   "cell_type": "markdown",
   "metadata": {},
   "source": [
    "##### A note on the bioenergy images. The whole image is the top 30% fraction. The top 17% fraction can be obtained by filtering with a mask (b2 = 3) "
   ]
  },
  {
   "cell_type": "code",
   "execution_count": 3,
   "metadata": {},
   "outputs": [],
   "source": [
    "# wpa dataset\n",
    "wpa = ee.FeatureCollection(\"WCMC/WDPA/current/polygons\")\n",
    "# dissolve wpa data\n",
    "#wpa1 = wpa.map(lambda feature: feature.buffer(30)).union()\n",
    "\n",
    "ssp1 = ee.Image('users/marcogirardello/annarepo/ssp1')\n",
    "ssp2 = ee.Image('users/marcogirardello/annarepo/ssp2')\n",
    "ssp5 = ee.Image('users/marcogirardello/annarepo/ssp5')\n",
    "\n",
    "# get continents\n",
    "countries = ee.FeatureCollection('users/marcogirardello/annarepo/countries')"
   ]
  },
  {
   "cell_type": "code",
   "execution_count": 4,
   "metadata": {},
   "outputs": [],
   "source": [
    "wpa = wpa.filterMetadata('STATUS','equals','Designated')"
   ]
  },
  {
   "cell_type": "code",
   "execution_count": 5,
   "metadata": {},
   "outputs": [],
   "source": [
    "scenarios =['ssp1','ssp2','ssp5']"
   ]
  },
  {
   "cell_type": "markdown",
   "metadata": {},
   "source": [
    "#### Clip and export bionenergy data"
   ]
  },
  {
   "cell_type": "code",
   "execution_count": 6,
   "metadata": {},
   "outputs": [],
   "source": [
    "for i in scenarios:\n",
    "    # get image\n",
    "    tmp = ee.Image('users/marcogirardello/annarepo/'+i)\n",
    "    # get bioenergy data\n",
    "    values = tmp.select('b2')\n",
    "    # get everything inside protected areas\n",
    "    values1 = values.clip(wpa)\n",
    "    # get everything outside protected areas\n",
    "    values2 = values1.where(values1.gt(0),1)\n",
    "    values3 = values.updateMask(values2.unmask().Not())\n",
    "    # outside PA \n",
    "    task = ee.batch.Export.image.toAsset(image = values3,assetId='users/marcogirardello/annarepo/'+i+'_nopa',crs='EPSG:4326',maxPixels=1e13,\n",
    "                              region = values3.geometry(),scale= 50000,description = i)\n",
    "    task.start()\n",
    "    # inside PA \n",
    "    task = ee.batch.Export.image.toAsset(image = values1,assetId='users/marcogirardello/annarepo/'+i+'_pa',crs='EPSG:4326',maxPixels=1e13,\n",
    "                              region = values3.geometry(),scale= 50000,description = i)\n",
    "    task.start()"
   ]
  },
  {
   "cell_type": "markdown",
   "metadata": {},
   "source": [
    "#### Get Mha of bioenergy inside and outside protected areas"
   ]
  },
  {
   "cell_type": "code",
   "execution_count": 7,
   "metadata": {},
   "outputs": [],
   "source": [
    "res = get_stats(fraction = 30)"
   ]
  },
  {
   "cell_type": "code",
   "execution_count": 7,
   "metadata": {},
   "outputs": [],
   "source": [
    "res1 = get_stats(fraction = 17)"
   ]
  },
  {
   "cell_type": "code",
   "execution_count": 12,
   "metadata": {},
   "outputs": [],
   "source": [
    "pd.concat([res,res1]).to_csv('/mnt/data1tb/Dropbox/AnnaRepo/project/barchartstats/barchart_stats.csv',index = False)"
   ]
  }
 ],
 "metadata": {
  "kernelspec": {
   "display_name": "Python 3 (ipykernel)",
   "language": "python",
   "name": "python3"
  },
  "language_info": {
   "codemirror_mode": {
    "name": "ipython",
    "version": 3
   },
   "file_extension": ".py",
   "mimetype": "text/x-python",
   "name": "python",
   "nbconvert_exporter": "python",
   "pygments_lexer": "ipython3",
   "version": "3.10.12"
  },
  "toc-showcode": true,
  "toc-showmarkdowntxt": true
 },
 "nbformat": 4,
 "nbformat_minor": 4
}
